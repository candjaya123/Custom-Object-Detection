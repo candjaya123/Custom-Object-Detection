{
 "cells": [
  {
   "cell_type": "markdown",
   "id": "b064f919",
   "metadata": {},
   "source": [
    "# COLLECT IMAGES FROM WEBCAM and CREATE LABEL\n",
    "   #### <font color='red'> skip this step if you already collecting images from other source\n"
   ]
  },
  {
   "cell_type": "markdown",
   "id": "da60fb07",
   "metadata": {},
   "source": [
    "### 1. Installing Package"
   ]
  },
  {
   "cell_type": "code",
   "execution_count": 2,
   "id": "bc899f27",
   "metadata": {},
   "outputs": [
    {
     "name": "stdout",
     "output_type": "stream",
     "text": [
      "Requirement already satisfied: opencv-python in c:\\users\\candj\\anaconda3\\envs\\new\\lib\\site-packages (4.7.0.72)\n",
      "Requirement already satisfied: numpy>=1.17.0 in c:\\users\\candj\\anaconda3\\envs\\new\\lib\\site-packages (from opencv-python) (1.24.2)\n"
     ]
    }
   ],
   "source": [
    "!pip install opencv-python"
   ]
  },
  {
   "cell_type": "markdown",
   "id": "d28f3aa6",
   "metadata": {},
   "source": [
    " ### 2. Import Dependencies"
   ]
  },
  {
   "cell_type": "code",
   "execution_count": 3,
   "id": "377627c3",
   "metadata": {},
   "outputs": [],
   "source": [
    "# Import opencv\n",
    "import cv2 \n",
    "\n",
    "# Import uuid\n",
    "import uuid\n",
    "\n",
    "# Import Operating System\n",
    "import os"
   ]
  },
  {
   "cell_type": "markdown",
   "id": "9b3804b3",
   "metadata": {},
   "source": [
    "### 3. Define Folder for Saving Img"
   ]
  },
  {
   "cell_type": "code",
   "execution_count": 4,
   "id": "af290169",
   "metadata": {},
   "outputs": [],
   "source": [
    "IMAGES_PATH = os.path.join('Tensorflow', 'workspace', 'images', 'collectedimages')\n",
    "TRAIN_PATH = os.path.join('Tensorflow', 'workspace', 'images', 'train')\n",
    "TEST_PATH = os.path.join('Tensorflow', 'workspace', 'images', 'test')"
   ]
  },
  {
   "cell_type": "markdown",
   "id": "5b2b1f41",
   "metadata": {},
   "source": [
    "### 4. Define Labels\n",
    "##### <font color='blue'>specify what detected object will be called"
   ]
  },
  {
   "cell_type": "code",
   "execution_count": 5,
   "id": "08e688b3",
   "metadata": {},
   "outputs": [],
   "source": [
    "labels = ['mask_on', 'mask_off']"
   ]
  },
  {
   "cell_type": "markdown",
   "id": "8a470498",
   "metadata": {},
   "source": [
    "### 5. Create Folder"
   ]
  },
  {
   "cell_type": "code",
   "execution_count": 6,
   "id": "456c9129",
   "metadata": {},
   "outputs": [],
   "source": [
    "if not os.path.exists(IMAGES_PATH):\n",
    "    !mkdir {IMAGES_PATH}\n",
    "if not os.path.exists(TRAIN_PATH):\n",
    "    !mkdir {TRAIN_PATH} \n",
    "if not os.path.exists(TEST_PATH):\n",
    "    !mkdir {TEST_PATH}"
   ]
  },
  {
   "cell_type": "markdown",
   "id": "5fb748a4",
   "metadata": {},
   "source": [
    "### 6. Capture Images\n",
    "\n",
    "#### press key 's' for collect and save img \n",
    "#### press key 'q' for close program"
   ]
  },
  {
   "cell_type": "code",
   "execution_count": 7,
   "id": "e77415c0",
   "metadata": {},
   "outputs": [
    {
     "name": "stdout",
     "output_type": "stream",
     "text": [
      "START>>>>> Collecting images on folder Tensorflow\\workspace\\images\\collectedimages\\mask_on mask_off\n",
      "success save 0 img on folder Tensorflow\\workspace\\images\\collectedimages\\mask_on mask_off\n"
     ]
    }
   ],
   "source": [
    "folder_name = labels[0] + ' ' + labels[1]\n",
    "count_img = 0\n",
    "cap = cv2.VideoCapture(0)\n",
    "\n",
    "img_folder = os.path.join(IMAGES_PATH, folder_name)\n",
    "print('START>>>>> Collecting images on folder ' + img_folder)\n",
    "\n",
    "if not os.path.exists(img_folder):\n",
    "    os.mkdir(img_folder)\n",
    "\n",
    "while True:\n",
    "    ret, frame  = cap.read()\n",
    "    cv2.imshow('frame', frame)\n",
    "\n",
    "    img_name = os.path.join(img_folder, str(count_img) +'.jpg'.format(str(uuid.uuid1())))\n",
    "    # print(imgname)\n",
    "    key = cv2.waitKey(1)\n",
    "    if key == ord('s'):\n",
    "        cv2.imwrite(img_name,frame)\n",
    "        count_img = count_img + 1\n",
    "    elif key == ord('q'):\n",
    "        print(\"success save \" + str(count_img) + \" img on folder \" + img_folder)\n",
    "        break\n",
    "\n",
    "cap.release()\n",
    "cv2.destroyAllWindows()"
   ]
  },
  {
   "cell_type": "markdown",
   "id": "eb472ca9",
   "metadata": {},
   "source": [
    "### 7. Installing labelimg APP"
   ]
  },
  {
   "cell_type": "code",
   "execution_count": 8,
   "id": "f0779938",
   "metadata": {},
   "outputs": [
    {
     "name": "stdout",
     "output_type": "stream",
     "text": [
      "Requirement already satisfied: labelimg in c:\\users\\candj\\anaconda3\\envs\\new\\lib\\site-packages (1.8.6)\n",
      "Requirement already satisfied: pyqt5 in c:\\users\\candj\\anaconda3\\envs\\new\\lib\\site-packages (from labelimg) (5.15.7)\n",
      "Requirement already satisfied: lxml in c:\\users\\candj\\anaconda3\\envs\\new\\lib\\site-packages (from labelimg) (4.9.1)\n",
      "Requirement already satisfied: PyQt5-sip<13,>=12.11 in c:\\users\\candj\\anaconda3\\envs\\new\\lib\\site-packages (from pyqt5->labelimg) (12.11.0)\n"
     ]
    }
   ],
   "source": [
    "!pip install labelimg"
   ]
  },
  {
   "cell_type": "markdown",
   "id": "806e8976",
   "metadata": {},
   "source": [
    "### 8. Labeling Images \n",
    "######  <font color='red'> read how to labeling img on https://github.com/candjaya123/Custom-Object-Detection/blob/main/README.md"
   ]
  },
  {
   "cell_type": "code",
   "execution_count": 12,
   "id": "3e85e5fa",
   "metadata": {},
   "outputs": [
    {
     "name": "stderr",
     "output_type": "stream",
     "text": [
      "QMimeDatabase: Error loading internal MIME data\n",
      "An error has been encountered at line 1 of <internal MIME data>: Premature end of document.:\n"
     ]
    }
   ],
   "source": [
    "!labelimg "
   ]
  },
  {
   "cell_type": "markdown",
   "id": "27ac2ffe",
   "metadata": {},
   "source": [
    "### 9. Copy and Split Collected Images into Train and Test Folder"
   ]
  },
  {
   "cell_type": "code",
   "execution_count": 13,
   "id": "9de43a4a",
   "metadata": {},
   "outputs": [],
   "source": [
    "import shutil"
   ]
  },
  {
   "cell_type": "code",
   "execution_count": 14,
   "id": "02c9fb09",
   "metadata": {},
   "outputs": [
    {
     "ename": "ZeroDivisionError",
     "evalue": "division by zero",
     "output_type": "error",
     "traceback": [
      "\u001b[1;31m---------------------------------------------------------------------------\u001b[0m",
      "\u001b[1;31mZeroDivisionError\u001b[0m                         Traceback (most recent call last)",
      "Cell \u001b[1;32mIn[14], line 14\u001b[0m\n\u001b[0;32m     12\u001b[0m num_test \u001b[38;5;241m=\u001b[39m \u001b[38;5;28mint\u001b[39m(num_img \u001b[38;5;241m*\u001b[39m persen_test \u001b[38;5;241m/\u001b[39m \u001b[38;5;241m100\u001b[39m)\n\u001b[0;32m     13\u001b[0m num_train \u001b[38;5;241m=\u001b[39m num_img \u001b[38;5;241m-\u001b[39m num_test\n\u001b[1;32m---> 14\u001b[0m test_gap \u001b[38;5;241m=\u001b[39m \u001b[38;5;28mint\u001b[39m(\u001b[43mnum_img\u001b[49m\u001b[43m \u001b[49m\u001b[38;5;241;43m/\u001b[39;49m\u001b[43m \u001b[49m\u001b[43m(\u001b[49m\u001b[43mnum_test\u001b[49m\u001b[43m)\u001b[49m)\n\u001b[0;32m     16\u001b[0m \u001b[38;5;28mprint\u001b[39m(num_img)\n",
      "\u001b[1;31mZeroDivisionError\u001b[0m: division by zero"
     ]
    }
   ],
   "source": [
    "num_img = 0\n",
    "persen_test = 30\n",
    "test_gap = 0\n",
    "\n",
    "while True:\n",
    "    img = os.path.join(img_folder, str(num_img) +'.jpg')\n",
    "    if os.path.exists(img):\n",
    "        num_img += 1\n",
    "    else:\n",
    "        break\n",
    "\n",
    "num_test = int(num_img * persen_test / 100)\n",
    "num_train = num_img - num_test\n",
    "test_gap = int(num_img / (num_test))\n",
    "\n",
    "print(num_img)"
   ]
  },
  {
   "cell_type": "code",
   "execution_count": 15,
   "id": "acd70faa",
   "metadata": {},
   "outputs": [],
   "source": [
    "test_folder = os.path.join(TEST_PATH)\n",
    "copy_test_img = 0\n",
    "while copy_test_img < num_img:\n",
    "    source_jpg_path = os.path.join(img_folder, str(copy_test_img) +'.jpg')\n",
    "    source_xml_path = os.path.join(img_folder, str(copy_test_img) +'.xml')\n",
    "    des_jpg_path = os.path.join(test_folder, str(copy_test_img) +'.jpg')\n",
    "    des_xml_path = os.path.join(test_folder, str(copy_test_img) +'.xml')\n",
    "    shutil.copyfile(source_jpg_path, des_jpg_path)\n",
    "    shutil.copyfile(source_xml_path, des_xml_path)\n",
    "    print(copy_test_img)\n",
    "    copy_test_img += test_gap"
   ]
  },
  {
   "cell_type": "code",
   "execution_count": 16,
   "id": "7c9507fa",
   "metadata": {},
   "outputs": [],
   "source": [
    "train_folder = os.path.join(TRAIN_PATH)\n",
    "copy_train_img = 0\n",
    "train_gap = 0\n",
    "while copy_train_img < num_img:\n",
    "    if copy_train_img == train_gap:\n",
    "        train_gap += test_gap\n",
    "        \n",
    "        print('skip')\n",
    "        \n",
    "    elif copy_train_img != train_gap:\n",
    "        source_jpg_path = os.path.join(img_folder, str(copy_train_img) +'.jpg')\n",
    "        source_xml_path = os.path.join(img_folder, str(copy_train_img) +'.xml')\n",
    "        \n",
    "        des_jpg_path = os.path.join(train_folder, str(copy_train_img) +'.jpg')\n",
    "        des_xml_path = os.path.join(train_folder, str(copy_train_img) +'.xml')\n",
    "        \n",
    "        shutil.copyfile(source_jpg_path, des_jpg_path)\n",
    "        shutil.copyfile(source_xml_path, des_xml_path)\n",
    "        \n",
    "        print(copy_train_img)\n",
    "        \n",
    "    copy_train_img += 1"
   ]
  },
  {
   "cell_type": "code",
   "execution_count": 32,
   "id": "e1db9284",
   "metadata": {},
   "outputs": [],
   "source": [
    "ARCHIVE_PATH = os.path.join('Tensorflow', 'workspace', 'images', 'archive.tar.gz')\n",
    "!tar -czf {ARCHIVE_PATH} {TRAIN_PATH} {TEST_PATH}"
   ]
  }
 ],
 "metadata": {
  "kernelspec": {
   "display_name": "Python 3 (ipykernel)",
   "language": "python",
   "name": "python3"
  },
  "language_info": {
   "codemirror_mode": {
    "name": "ipython",
    "version": 3
   },
   "file_extension": ".py",
   "mimetype": "text/x-python",
   "name": "python",
   "nbconvert_exporter": "python",
   "pygments_lexer": "ipython3",
   "version": "3.9.16"
  }
 },
 "nbformat": 4,
 "nbformat_minor": 5
}
